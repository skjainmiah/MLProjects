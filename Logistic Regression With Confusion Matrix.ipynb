{
 "cells": [
  {
   "cell_type": "code",
   "execution_count": 3,
   "metadata": {},
   "outputs": [],
   "source": [
    "import pandas as pd\n",
    "import numpy as np\n",
    "import matplotlib.pyplot as plt\n",
    "%matplotlib inline\n",
    "import seaborn as sns\n",
    "from sklearn.datasets import load_digits"
   ]
  },
  {
   "cell_type": "code",
   "execution_count": 5,
   "metadata": {},
   "outputs": [],
   "source": [
    "digits = load_digits()"
   ]
  },
  {
   "cell_type": "code",
   "execution_count": 6,
   "metadata": {},
   "outputs": [
    {
     "data": {
      "text/plain": [
       "['DESCR', 'data', 'images', 'target', 'target_names']"
      ]
     },
     "execution_count": 6,
     "metadata": {},
     "output_type": "execute_result"
    }
   ],
   "source": [
    "dir(digits)"
   ]
  },
  {
   "cell_type": "code",
   "execution_count": 7,
   "metadata": {},
   "outputs": [
    {
     "data": {
      "text/plain": [
       "array([[ 0.,  0.,  5., ...,  0.,  0.,  0.],\n",
       "       [ 0.,  0.,  0., ..., 10.,  0.,  0.],\n",
       "       [ 0.,  0.,  0., ..., 16.,  9.,  0.],\n",
       "       ...,\n",
       "       [ 0.,  0.,  1., ...,  6.,  0.,  0.],\n",
       "       [ 0.,  0.,  2., ..., 12.,  0.,  0.],\n",
       "       [ 0.,  0., 10., ..., 12.,  1.,  0.]])"
      ]
     },
     "execution_count": 7,
     "metadata": {},
     "output_type": "execute_result"
    }
   ],
   "source": [
    "digits.data"
   ]
  },
  {
   "cell_type": "code",
   "execution_count": 8,
   "metadata": {},
   "outputs": [
    {
     "data": {
      "text/plain": [
       "array([0, 1, 2, ..., 8, 9, 8])"
      ]
     },
     "execution_count": 8,
     "metadata": {},
     "output_type": "execute_result"
    }
   ],
   "source": [
    "digits.target"
   ]
  },
  {
   "cell_type": "code",
   "execution_count": 12,
   "metadata": {},
   "outputs": [
    {
     "data": {
      "text/plain": [
       "<matplotlib.image.AxesImage at 0x1ec43808898>"
      ]
     },
     "execution_count": 12,
     "metadata": {},
     "output_type": "execute_result"
    },
    {
     "data": {
      "text/plain": [
       "<Figure size 432x288 with 0 Axes>"
      ]
     },
     "metadata": {},
     "output_type": "display_data"
    },
    {
     "data": {
      "image/png": "[encoded data removed]",
      "text/plain": [
       "<Figure size 288x288 with 1 Axes>"
      ]
     },
     "metadata": {
      "needs_background": "light"
     },
     "output_type": "display_data"
    }
   ],
   "source": [
    "plt.gray()\n",
    "plt.matshow(digits.images[0])"
   ]
  },
  {
   "cell_type": "code",
   "execution_count": 15,
   "metadata": {},
   "outputs": [],
   "source": [
    "#import train_test_split\n",
    "from sklearn.model_selection import train_test_split"
   ]
  },
  {
   "cell_type": "code",
   "execution_count": 16,
   "metadata": {},
   "outputs": [],
   "source": [
    "X_train,X_test,y_train,y_test = train_test_split(digits.data,digits.target,test_size=0.3)"
   ]
  },
  {
   "cell_type": "code",
   "execution_count": 18,
   "metadata": {},
   "outputs": [],
   "source": [
    "#importing Logistic Regresssion\n",
    "from sklearn.linear_model import LogisticRegression"
   ]
  },
  {
   "cell_type": "code",
   "execution_count": 19,
   "metadata": {},
   "outputs": [
    {
     "data": {
      "text/plain": [
       "LogisticRegression(C=1.0, class_weight=None, dual=False, fit_intercept=True,\n",
       "          intercept_scaling=1, max_iter=100, multi_class='ovr', n_jobs=1,\n",
       "          penalty='l2', random_state=None, solver='liblinear', tol=0.0001,\n",
       "          verbose=0, warm_start=False)"
      ]
     },
     "execution_count": 19,
     "metadata": {},
     "output_type": "execute_result"
    }
   ],
   "source": [
    "lg = LogisticRegression()\n",
    "lg.fit(X_train,y_train)"
   ]
  },
  {
   "cell_type": "code",
   "execution_count": 20,
   "metadata": {},
   "outputs": [
    {
     "data": {
      "text/plain": [
       "array([0, 3, 9, 2, 6, 5, 4, 4, 0, 0, 6, 9, 6, 6, 4, 9, 3, 7, 5, 0, 4, 8,\n",
       "       2, 3, 0, 0, 1, 5, 6, 0, 7, 6, 0, 9, 9, 1, 5, 2, 1, 5, 7, 9, 6, 1,\n",
       "       2, 7, 7, 6, 6, 9, 4, 6, 9, 9, 0, 6, 5, 8, 8, 9, 4, 7, 1, 1, 0, 1,\n",
       "       6, 3, 9, 8, 6, 1, 7, 1, 3, 9, 1, 5, 8, 7, 4, 1, 1, 8, 0, 6, 2, 6,\n",
       "       8, 2, 3, 8, 8, 1, 8, 2, 3, 8, 9, 4, 0, 0, 7, 1, 0, 6, 0, 4, 4, 3,\n",
       "       7, 5, 8, 5, 9, 7, 8, 3, 2, 1, 7, 3, 1, 8, 6, 8, 1, 2, 2, 1, 3, 6,\n",
       "       4, 9, 9, 3, 6, 2, 5, 0, 2, 2, 0, 5, 9, 8, 6, 9, 7, 0, 3, 8, 9, 1,\n",
       "       3, 6, 9, 5, 5, 4, 1, 5, 0, 7, 8, 5, 9, 0, 9, 7, 9, 7, 6, 1, 7, 3,\n",
       "       8, 9, 4, 1, 9, 0, 5, 3, 5, 1, 0, 2, 0, 8, 0, 7, 2, 6, 2, 8, 1, 2,\n",
       "       5, 4, 1, 4, 9, 1, 2, 7, 0, 6, 0, 2, 9, 2, 4, 9, 2, 9, 4, 5, 1, 2,\n",
       "       9, 9, 3, 4, 6, 5, 6, 0, 3, 0, 4, 6, 1, 9, 5, 6, 0, 4, 5, 2, 0, 3,\n",
       "       9, 6, 3, 9, 9, 3, 8, 7, 8, 4, 2, 9, 5, 2, 6, 5, 4, 3, 5, 1, 8, 3,\n",
       "       6, 8, 7, 0, 4, 3, 1, 1, 7, 9, 6, 2, 4, 4, 8, 4, 7, 4, 6, 5, 3, 2,\n",
       "       5, 8, 6, 1, 5, 0, 5, 0, 8, 3, 6, 9, 4, 4, 5, 1, 8, 8, 7, 7, 5, 6,\n",
       "       5, 4, 0, 1, 7, 7, 8, 9, 4, 7, 3, 0, 2, 1, 4, 4, 7, 6, 3, 8, 7, 9,\n",
       "       6, 0, 6, 4, 4, 2, 1, 3, 8, 2, 2, 1, 6, 6, 6, 8, 5, 7, 1, 9, 8, 5,\n",
       "       3, 7, 4, 4, 9, 6, 8, 7, 0, 9, 5, 1, 2, 3, 1, 3, 7, 5, 2, 6, 2, 0,\n",
       "       0, 5, 7, 7, 6, 6, 8, 6, 0, 1, 4, 2, 4, 9, 9, 7, 5, 3, 8, 2, 9, 9,\n",
       "       4, 4, 4, 3, 4, 5, 1, 9, 6, 0, 4, 7, 5, 6, 1, 5, 7, 1, 7, 7, 7, 3,\n",
       "       0, 6, 2, 2, 8, 7, 7, 8, 7, 0, 3, 7, 7, 0, 6, 4, 0, 3, 5, 9, 2, 3,\n",
       "       6, 4, 1, 9, 3, 0, 4, 9, 7, 0, 5, 5, 1, 9, 9, 5, 6, 9, 1, 7, 4, 2,\n",
       "       3, 2, 0, 2, 2, 2, 8, 1, 0, 9, 6, 5, 0, 4, 2, 9, 7, 5, 4, 5, 2, 4,\n",
       "       5, 7, 3, 6, 4, 1, 9, 6, 0, 8, 2, 8, 1, 2, 6, 0, 9, 7, 9, 1, 8, 6,\n",
       "       9, 9, 6, 5, 5, 0, 6, 6, 7, 2, 5, 9, 0, 3, 0, 0, 8, 2, 1, 8, 9, 0,\n",
       "       9, 4, 6, 9, 8, 3, 2, 3, 8, 0, 0, 5])"
      ]
     },
     "execution_count": 20,
     "metadata": {},
     "output_type": "execute_result"
    }
   ],
   "source": [
    "lg.predict(X_test)"
   ]
  },
  {
   "cell_type": "code",
   "execution_count": 23,
   "metadata": {},
   "outputs": [
    {
     "data": {
      "text/plain": [
       "array([[59,  0,  0,  0,  0,  1,  0,  0,  0,  0],\n",
       "       [ 0, 47,  0,  0,  0,  0,  0,  0,  2,  0],\n",
       "       [ 0,  0, 50,  0,  0,  0,  0,  0,  0,  0],\n",
       "       [ 0,  0,  0, 40,  0,  2,  0,  0,  1,  1],\n",
       "       [ 0,  1,  0,  0, 52,  0,  1,  0,  0,  0],\n",
       "       [ 0,  0,  0,  1,  0, 49,  0,  0,  0,  0],\n",
       "       [ 0,  2,  0,  0,  0,  0, 61,  0,  0,  0],\n",
       "       [ 0,  0,  0,  0,  0,  0,  0, 51,  0,  1],\n",
       "       [ 0,  2,  1,  2,  0,  0,  0,  0, 45,  1],\n",
       "       [ 0,  0,  0,  1,  1,  1,  0,  2,  0, 62]], dtype=int64)"
      ]
     },
     "execution_count": 23,
     "metadata": {},
     "output_type": "execute_result"
    }
   ],
   "source": [
    "#Importing confusion matrix\n",
    "from sklearn.metrics import confusion_matrix\n",
    "y_predicted = lg.predict(X_test)\n",
    "cm = confusion_matrix(y_test,y_predicted)\n",
    "cm"
   ]
  },
  {
   "cell_type": "code",
   "execution_count": 32,
   "metadata": {},
   "outputs": [
    {
     "data": {
      "text/plain": [
       "Text(69.0, 0.5, 'Actual Value')"
      ]
     },
     "execution_count": 32,
     "metadata": {},
     "output_type": "execute_result"
    },
    {
     "data": {
      "image/png": "[encoded data removed]",
      "text/plain": [
       "<Figure size 720x432 with 2 Axes>"
      ]
     },
     "metadata": {
      "needs_background": "light"
     },
     "output_type": "display_data"
    }
   ],
   "source": [
    "plt.figure(figsize=(10,6))\n",
    "sns.heatmap(cm,annot=True,cmap=\"YlGnBu\")\n",
    "plt.xlabel('Predicted Value')\n",
    "plt.ylabel('Actual Value')"
   ]
  },
  {
   "cell_type": "code",
   "execution_count": 33,
   "metadata": {},
   "outputs": [
    {
     "data": {
      "text/plain": [
       "0.9555555555555556"
      ]
     },
     "execution_count": 33,
     "metadata": {},
     "output_type": "execute_result"
    }
   ],
   "source": [
    "lg.score(X_test,y_test)"
   ]
  },
  {
   "cell_type": "code",
   "execution_count": null,
   "metadata": {},
   "outputs": [],
   "source": []
  }
 ],
 "metadata": {
  "kernelspec": {
   "display_name": "Python 3",
   "language": "python",
   "name": "python3"
  },
  "language_info": {
   "codemirror_mode": {
    "name": "ipython",
    "version": 3
   },
   "file_extension": ".py",
   "mimetype": "text/x-python",
   "name": "python",
   "nbconvert_exporter": "python",
   "pygments_lexer": "ipython3",
   "version": "3.7.0"
  }
 },
 "nbformat": 4,
 "nbformat_minor": 2
}
